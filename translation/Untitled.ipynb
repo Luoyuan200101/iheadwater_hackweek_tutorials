{
 "cells": [
  {
   "cell_type": "markdown",
   "id": "16741965-1f97-4274-949c-5dbe6d17b45b",
   "metadata": {},
   "source": [
    "# 第三章：jupyter for python"
   ]
  },
  {
   "cell_type": "code",
   "execution_count": null,
   "id": "a9d32f3b-8323-4c8e-9143-d42892cd6d97",
   "metadata": {},
   "outputs": [],
   "source": []
  }
 ],
 "metadata": {
  "kernelspec": {
   "display_name": "Python 3 (ipykernel)",
   "language": "python",
   "name": "python3"
  },
  "language_info": {
   "codemirror_mode": {
    "name": "ipython",
    "version": 3
   },
   "file_extension": ".py",
   "mimetype": "text/x-python",
   "name": "python",
   "nbconvert_exporter": "python",
   "pygments_lexer": "ipython3",
   "version": "3.9.7"
  }
 },
 "nbformat": 4,
 "nbformat_minor": 5
}
