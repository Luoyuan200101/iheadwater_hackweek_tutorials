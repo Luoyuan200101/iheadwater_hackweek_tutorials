{
 "cells": [
  {
   "cell_type": "markdown",
   "id": "38f699d7-d381-4f27-b881-2d9b88ae881b",
   "metadata": {},
   "source": [
    "# 第二章：使用bash操作文件"
   ]
  },
  {
   "cell_type": "markdown",
   "id": "bdfe26c8-4ef0-445f-acd7-410bee33947e",
   "metadata": {},
   "source": [
    "## 第 1 课 Bash (Shell) 简介以及在命令行中操作文件和目录"
   ]
  },
  {
   "cell_type": "markdown",
   "id": "164aff50-29fb-45d0-b1dc-8534ad1a9e9f",
   "metadata": {},
   "source": [
    "### Ⅰ. 终端、Shell 和 Bash - 概述"
   ]
  },
  {
   "cell_type": "markdown",
   "id": "5382591f-5182-4256-8473-c379b3b61cd4",
   "metadata": {},
   "source": [
    "#### **1. 终端**"
   ]
  },
  {
   "cell_type": "markdown",
   "id": "1f8bb07c-94dc-498b-b4b1-5b6b0d6c2bbf",
   "metadata": {},
   "source": [
    "在计算的早期，处理数据或执行操作的计算机与为其提供处理指令的工具是分开的。\n",
    "\n",
    "终端：用于向计算机发送命令  \n",
    "计算机：处理命令的硬件\n",
    "\n",
    "今天，有些计算机既可以提供命令又可以执行计算，这些计算机具有图形用户界面（称为 GUI），可以轻松执行任务。\n",
    "\n",
    "但是，对于某些任务，访问命令行或终端通常比使用 GUI 更有效，您可以通过终端发送命令以编程方式完成这些任务。例如，在终端中处理文件比在 Windows 资源管理器或 MAC 上的 Finder 等图形环境中处理文件更快、更有效。\n",
    "\n",
    "你还可以使用终端启动和执行开放的可重复科学工具，例如Jupyter Notebook、Python和git，您将在本教材中使用这些工具。"
   ]
  },
  {
   "cell_type": "markdown",
   "id": "d20dd1aa-91b8-44a5-9d72-c4d22b6d1cb4",
   "metadata": {},
   "source": [
    "![计算机](https://www.earthdatascience.org/images/courses/earth-analytics/python-interface/early-terminal.png)"
   ]
  },
  {
   "cell_type": "markdown",
   "id": "908e4890-e9df-4bdb-bae7-eb3d18588873",
   "metadata": {},
   "source": [
    "#### **2. Shell and Bash**"
   ]
  },
  {
   "cell_type": "markdown",
   "id": "68fac0c1-4a77-4565-9a26-79ade6bdce3f",
   "metadata": {},
   "source": [
    "在 Open Reproducible Science 一章中，您了解到这Shell是计算机用来接收代码（即命令）并返回执行这些命令产生的信息（即输出）的主要程序。\n",
    "\n",
    "这些命令可以通过终端输入和执行。这允许您通过使用键盘输入命令来控制计算机，而不是使用鼠标/键盘在 GUI 中使用按钮或下拉菜单。\n",
    "\n",
    "Bash（也称为“Bourne Again SHell”）是一种实现Shell并允许您有效地执行许多任务。例如，您可以Bash通过命令行快速对多个文件执行操作。\n",
    "\n",
    "您还可以在 中编写和执行脚本Bash，就像在RorPython中一样，可以跨不同操作系统执行。"
   ]
  },
  {
   "cell_type": "markdown",
   "id": "3b1d5f95-058c-4dda-a491-c11d5c2de00c",
   "metadata": {},
   "source": [
    "### Ⅱ.为什么 Bash 对开放可重复科学很重要"
   ]
  },
  {
   "cell_type": "markdown",
   "id": "99f00b08-4203-47d5-9825-53eaf161c7be",
   "metadata": {},
   "source": [
    "在终端中使用Bash是一种与计算机交互的强大方式。GUI 和命令行Bash是互补的——通过了解两者，你将大大扩展您可以使用计算机完成的任务范围。\n",
    "\n",
    "使用Bash命令，你将能够更有效地执行许多任务，并跨不同操作系统自动化和复制工作流。你可以在命令行运行的常见任务包括检查当前工作目录、更改目录、创建新目录、提取文件以及在计算机上查找文件。\n",
    "\n",
    "在终端中工作Bash使您能够：\n",
    "\n",
    "- 轻松导航你的计算机以访问和管理文件和文件夹（即目录）。\n",
    "- 一次快速有效地处理多个文件和目录。\n",
    "- 在命令行运行提供更多功能的程序（例如git）。\n",
    "- 从你的计算机上的特定目录启动程序（例如Jupyter Notebook）。\n",
    "- 在许多不同的操作系统（Windows、Mac、Linux）上对这些任务使用可重复的命令。"
   ]
  },
  {
   "cell_type": "markdown",
   "id": "049b27cf-7f15-47ca-aa9e-fa80ebaccd64",
   "metadata": {},
   "source": [
    "### Ⅲ.Bash 的终端选项"
   ]
  },
  {
   "cell_type": "markdown",
   "id": "60a59d08-f465-4a31-8a6a-20bfcdfdd2c1",
   "metadata": {},
   "source": [
    "之前，你了解到终端是命令行界面 (CLI)，可让你访问Bash. 有许多不同的终端程序，因此，您在计算机上使用的终端将根据您的操作系统而有所不同。\n",
    "\n",
    "例如，Mac 以及许多 Linux 计算机都安装了一个默认终端程序，提供对Bash. 但是，Windows 计算机上的默认终端不提供对Bash.\n",
    "\n",
    "对于这本教科书，Windows 用户将需要安装一个自定义终端，调用Git Bash它来访问和运行Bash命令\n",
    "\n",
    "在整个教科书中，你用来访问的命令行环境Bash将被称为终端。"
   ]
  },
  {
   "cell_type": "markdown",
   "id": "8ffc78c1-ad1b-4f3f-a266-9f94631bf9b2",
   "metadata": {},
   "source": [
    "### Ⅳ。在计算机上打开终端"
   ]
  },
  {
   "cell_type": "markdown",
   "id": "3ddc9e05-c3ed-497c-85ce-8d3a7a739027",
   "metadata": {},
   "source": [
    "用于运行命令的终端程序Bash会因计算机的操作系统而异"
   ]
  },
  {
   "cell_type": "markdown",
   "id": "bd4370c9-696e-4433-a2ce-a917646654fa",
   "metadata": {},
   "source": [
    "**Mac (OS X)**"
   ]
  },
  {
   "cell_type": "markdown",
   "id": "2cb76f17-77b2-477a-829a-d48dbd817934",
   "metadata": {},
   "source": [
    "你可以使用名为 Terminal 的程序，该程序使用 Mac OS 的Bash实现Shell并本机安装。\n",
    "\n",
    "你可以通过从 Spotlight（或从/Applications/Utilities）查找并启动终端来打开终端。"
   ]
  },
  {
   "cell_type": "markdown",
   "id": "f3fa4113-2543-490d-aab0-c0206cf56d36",
   "metadata": {},
   "source": [
    "![图片2](https://www.earthdatascience.org/images/earth-analytics/bash/mac-terminal.png)"
   ]
  },
  {
   "cell_type": "markdown",
   "id": "4ae9fcba-6a45-491d-bfed-20730055f13f",
   "metadata": {},
   "source": [
    "**Linux**"
   ]
  },
  {
   "cell_type": "markdown",
   "id": "ebd5486c-8e23-4960-87de-745702c29571",
   "metadata": {},
   "source": [
    "许多 Linux 计算机使用 的Bash实现Shell，你将在下面的部分中学习对其进行测试。\n",
    "\n",
    "你可以通过从程序列表中查找并启动名为Terminal(或) 的程序来打开它。Terminal Emulator"
   ]
  },
  {
   "cell_type": "markdown",
   "id": "4ccb1a71-6050-4cca-91d9-85216930677f",
   "metadata": {},
   "source": [
    "![](https://www.earthdatascience.org/images/courses/earth-analytics/bootcamp/terminal/linux-terminal.png)"
   ]
  },
  {
   "cell_type": "markdown",
   "id": "dc01fa48-33ff-4fca-ab87-4de000c6e960",
   "metadata": {},
   "source": [
    "**Windows**"
   ]
  },
  {
   "cell_type": "markdown",
   "id": "0c8f55e3-a8c7-468a-8169-f6c9b1d750a0",
   "metadata": {},
   "source": [
    "Bash在 Windows 上运行有很多选项。对于这本教科书，你将使用Git Bash随你安装的git. 设置说明如下：\n",
    "\n",
    "- [在你的计算机上设置 Git、Bash 和 Conda](https://www.earthdatascience.org/workshops/setup-earth-analytics-python/)\n",
    "\n",
    "在 Windows 机器上安装后，你可以通过在开始菜单中git搜索来打开此终端。Git Bash用于Git Bash本教科书中要求你使用Terminal."
   ]
  },
  {
   "cell_type": "markdown",
   "id": "e101d87a-ba4a-4994-8cab-5f678d244529",
   "metadata": {},
   "source": [
    "![](https://www.earthdatascience.org/images/courses/earth-analytics/bootcamp/terminal/git-bash-terminal.png)"
   ]
  },
  {
   "cell_type": "markdown",
   "id": "8c355617-2244-4ac5-a82e-495874e81e35",
   "metadata": {},
   "source": [
    "### Ⅴ.检查 Bash"
   ]
  },
  {
   "cell_type": "markdown",
   "id": "a587fa80-19e0-4383-803d-227f27e988ee",
   "metadata": {},
   "source": [
    "要Bash在您的计算机上进行检查，您可以在打开的终端中键入“bash”，如下所示，然后按 Enter 键。\n",
    "\n",
    "请注意，如果命令不成功，您只会收到一条消息。如果命令成功，您将只看到一个新行提示符等待更多输入。\n",
    "\n",
    "$bash\n",
    "\n",
    "$在此示例中，美元符号是一个提示，显示你的Bash正在等待更多输入。\n",
    "\n",
    "根据您的计算机设置，您可能会看到不同的字符作为提示和/或提示之前的附加信息，例如您在计算机文件结构中的当前位置（即您当前的工作目录）。"
   ]
  },
  {
   "cell_type": "markdown",
   "id": "4c0fe621-8691-4d2f-8d93-192019002a71",
   "metadata": {},
   "source": [
    "### Ⅵ.关闭终端会话"
   ]
  },
  {
   "cell_type": "markdown",
   "id": "b18a69a4-4b1f-4717-8801-b661feabc6d7",
   "metadata": {},
   "source": [
    "你可以随时通过键入“exit”命令并按回车键来关闭终端。"
   ]
  },
  {
   "cell_type": "markdown",
   "id": "b506325f-b0ff-4058-95a6-b707257f6b7c",
   "metadata": {},
   "source": [
    "## 第二课：管理目录和文件的 Bash 命令"
   ]
  },
  {
   "cell_type": "markdown",
   "id": "288857eb-c053-4ff6-b3e8-1e49f5eefd0a",
   "metadata": {},
   "source": [
    "### Ⅰ.管理目录和文件的 Bash 命令"
   ]
  },
  {
   "cell_type": "markdown",
   "id": "28327619-affe-4619-b4a3-89e0dae1cae3",
   "metadata": {},
   "source": [
    "在前面关于终端会话的部分中，您了解到终端会显示一个提示，提示您Bash正在等待输入。\n",
    "\n",
    "$bash  \n",
    "\n",
    "回想一下，根据您的计算机设置，您可能会看到不同的字符作为提示和/或提示之前的附加信息，例如您在计算机文件结构中的当前位置（即您当前的工作目录）。\n",
    "\n",
    "键入命令（来自本教科书或其他来源）时，请勿键入美元符号（或其他字符提示符）。只键入它后面的命令。\n",
    "\n",
    "注意：在本页的示例中，提示符后面的缩进行不以美元符号$开头是命令的输出。以下命令在您的计算机上的结果会略有不同，具体取决于您的操作系统以及您自定义文件系统的方式。"
   ]
  },
  {
   "cell_type": "markdown",
   "id": "55b67090-e4de-47d2-9466-8b82f743f3b5",
   "metadata": {},
   "source": [
    "### Ⅱ.用于管理目录和文件的有用 Bash 命令"
   ]
  },
  {
   "cell_type": "markdown",
   "id": "8e09970e-30eb-47fb-b6da-7035a5680570",
   "metadata": {},
   "source": [
    "#### 1. 打印当前工作目录 ( pwd)"
   ]
  },
  {
   "cell_type": "markdown",
   "id": "2e66cd52-1dd9-4973-acf7-e7377c8f6f21",
   "metadata": {},
   "source": [
    "您当前的工作目录是执行命令的目录。它通常打印为目录的完整路径（意味着您可以看到父目录）。\n",
    "\n",
    "要打印当前工作目录的名称，请使用命令pwd。\n",
    "\n",
    "$ pwd    \n",
    "   \n",
    "   /users/jpalomino  \n",
    "由于这是您Bash在此会话中执行的第一个命令，因此结果pwd是您的主目录的完整路径。主目录是您每次启动新Bash会话时将位于的默认目录。\n",
    "\n",
    "Windows 用户：请注意，Terminal使用正斜杠 ( /) 来指示路径中的目录。这与使用反斜杠 ( \\) 指示路径中的目录的 Windows 文件资源管理器不同。"
   ]
  },
  {
   "cell_type": "markdown",
   "id": "0164c526-5695-4e1f-b189-7a770d50ce71",
   "metadata": {},
   "source": [
    "#### 2. 更改当前工作目录 ( cd)"
   ]
  },
  {
   "cell_type": "markdown",
   "id": "c7d5bf39-4dba-413f-953b-2f9e5e84e4db",
   "metadata": {},
   "source": [
    "通常，您可能想要更改当前工作目录，以便可以访问不同的子目录和文件。\n",
    "\n",
    "要更改目录，请使用cd后跟目录名称的命令（例如cd downloads）。然后，您可以再次打印当前工作目录以检查新路径。\n",
    "\n",
    "例如，您可以将工作目录更改为主documents目录下的现有目录，然后检查当前工作目录是否已更新。\n",
    "\n",
    "$cd documents  \n",
    "\n",
    "$pwd  \n",
    "    /users/jpalomino/documents  \n",
    "您可以使用该命令返回任何当前目录的父目录cd ..，因为当前工作目录的完整路径可以被Bash.\n",
    "\n",
    "$ cd ..    \n",
    "\n",
    "$ pwd  \n",
    "    /users/jpalomino  \n",
    "/users/jpalomino您也可以随时使用命令cd ~（称为波浪号的字符）返回您的主目录（例如）。\n",
    "\n",
    "$ cd ~  \n",
    "\n",
    "$ pwd  \n",
    "    /users/jpalomino"
   ]
  },
  {
   "cell_type": "markdown",
   "id": "531f3f5a-8720-4d23-8d68-b2fcb3f1e3be",
   "metadata": {},
   "source": [
    "#### 3.创建新目录 ( mkdir)"
   ]
  },
  {
   "cell_type": "markdown",
   "id": "ea006ddf-f9b7-4083-988d-07027cb0899a",
   "metadata": {},
   "source": [
    "创建新目录的第一步是导航到您希望成为该新目录的父目录的目录，使用cd.\n",
    "\n",
    "然后，使用命令mkdir后跟您要为新目录命名的名称（例如mkdir directory-name）。\n",
    "\n",
    "例如，您可以在documentscalled下创建一个新目录assignments。然后，您可以导航到名为 的新目录assignments，并打印当前工作目录以检查新路径。\n",
    "\n",
    "$ cd documents\n",
    "\n",
    "$ mkdir assignments\n",
    "\n",
    "$ cd assignments\n",
    "\n",
    "$ pwd\n",
    "   \n",
    "   /users/jpalomino/documents/assignments\n",
    "\n",
    "请注意，mkdir命令没有输出。此外，由于assignments提供 toBash作为相对路径（即，没有前导斜杠或附加路径信息），documents默认情况下在当前工作目录（例如 ）中创建新目录。"
   ]
  },
  {
   "cell_type": "markdown",
   "id": "b3ca999f-bfda-4a5d-9a2c-54d15808578e",
   "metadata": {},
   "source": [
    "#### 4. 打印文件和子目录列表 ( ls)"
   ]
  },
  {
   "cell_type": "markdown",
   "id": "f6b74e8f-6885-41eb-990b-0e041b914da5",
   "metadata": {},
   "source": [
    "要查看当前工作目录中所有子目录和文件的列表，请使用命令ls。\n",
    "\n",
    "$ cd ~\n",
    "\n",
    "$ pwd\n",
    "    \n",
    "/users/jpalomino\n",
    "\n",
    "$ ls \n",
    "    \n",
    "addresses.txt    documents    downloads    grades.txt    \n",
    "\n",
    "在上面的示例中，ls打印了主目录的内容，其中包含名为 and 的子目录和名为anddocuments的downloads文件。addresses.txtgrades.txt\n",
    "\n",
    "您可以继续将当前工作目录更改为子目录，例如documents并打印所有文件和子目录的新列表以查看新创建的assignments目录。\n",
    "\n",
    "$ cd documents\n",
    "\n",
    "$ ls    \n",
    "    \n",
    "assignments  \n",
    "\n",
    "assignments也可以在叫下新建一个子目录homeworks，然后列出目录的内容就assignments可以看到新创建的了homeworks。\n",
    "\n",
    "$ cd assignments\n",
    "\n",
    "$ mkdir homeworks\n",
    "\n",
    "$ ls    \n",
    "    \n",
    "homeworks  "
   ]
  },
  {
   "cell_type": "markdown",
   "id": "9034e18b-3423-401c-9685-90230cb706ba",
   "metadata": {},
   "source": [
    "#### 5. 删除文件 ( rm)"
   ]
  },
  {
   "cell_type": "markdown",
   "id": "db18ef8e-aa5d-4bc7-803b-e829cb316c95",
   "metadata": {},
   "source": [
    "要删除特定文件，您可以使用命令rm后跟要删除的文件的名称（例如rm filename）。\n",
    "\n",
    "例如，您可以删除addresses.txt主目录下的文件。\n",
    "\n",
    "$ pwd\n",
    "\n",
    "/users/jpalomino\n",
    "\n",
    "$ ls \n",
    "    \n",
    "addresses.txt    documents    downloads    grades.txt \n",
    "\n",
    "$ rm addresses.txt\n",
    "\n",
    "$ ls \n",
    "    \n",
    "documents    downloads    grades.txt"
   ]
  },
  {
   "cell_type": "markdown",
   "id": "01125f69-da8c-42bf-842f-69caea71b003",
   "metadata": {},
   "source": [
    "#### 6.删除目录 ( rm -r)"
   ]
  },
  {
   "cell_type": "markdown",
   "id": "71c919cb-9109-4843-ad64-29ca3732636e",
   "metadata": {},
   "source": [
    "要删除（即删除）一个目录及其包含的所有子目录和文件，请导航到其父目录，然后使用命令rm -r后跟要删除的目录的名称（例如rm -r directory-name）。\n",
    "\n",
    "例如，您可以删除assignments目录下的documents目录，因为它不符合目录好名的要求（即描述性不够——什么样的分配？）。\n",
    "\n",
    "$ cd ~\n",
    "\n",
    "$ cd documents\n",
    "\n",
    "$ pwd\n",
    "\n",
    "/users/jpalomino/documents\n",
    "\n",
    "$ ls    \n",
    "\n",
    "assignments  \n",
    "\n",
    "$ rm -r assignments\n",
    "\n",
    "rm代表删除，而有-r必要告诉Bash它需要通过父目录中所有文件和子目录的列表递归（或重复）命令。\n",
    "\n",
    "这样，在删除时，新创建的homeworks目录assignments也将assignments被删除。\n",
    "\n",
    "$ pwd\n",
    "\n",
    "/users/jpalomino/documents\n",
    "\n",
    "$ ls\n",
    "\n",
    "$"
   ]
  },
  {
   "cell_type": "markdown",
   "id": "782d89df-25b3-4705-9732-87ba7b2ac283",
   "metadata": {},
   "source": [
    "#### 7. 复制文件 ( cp)"
   ]
  },
  {
   "cell_type": "markdown",
   "id": "51b61339-1a6e-4a86-811f-6804525502da",
   "metadata": {},
   "source": [
    "您还可以使用命令将特定文件复制到新目录，cp后跟要复制的文件的名称以及要将文件复制到的目录的名称（例如cp filename directory-name）。\n",
    "\n",
    "例如，您可以grades.txt从主目录复制到documents.\n",
    "\n",
    "$ cd ~\n",
    "\n",
    "$ pwd\n",
    "\n",
    "/users/jpalomino\n",
    "\n",
    "$ ls \n",
    "\n",
    "documents    downloads    grades.txt\n",
    "\n",
    "$ cp grades.txt documents\n",
    "\n",
    "$ cd documents\n",
    "\n",
    "$ ls\n",
    "\n",
    "grades.txt\n",
    "\n",
    "请注意，文件的原始副本仍保留在原始目录中，因此您现在将拥有 的两个副本grades.txt，一个位于主目录中，另一个位于documents.\n",
    "\n",
    "$ cd ~\n",
    "\n",
    "$ pwd\n",
    "\n",
    "/users/jpalomino\n",
    "\n",
    "$ ls \n",
    "\n",
    "documents    downloads    grades.txt"
   ]
  },
  {
   "cell_type": "markdown",
   "id": "d46348a0-03ba-4f9f-b6e0-9a709af22978",
   "metadata": {},
   "source": [
    "#### 8. 复制目录及其内容 ( cp -r)"
   ]
  },
  {
   "cell_type": "markdown",
   "id": "3e24893f-849b-49c0-afd2-7a3813490f10",
   "metadata": {},
   "source": [
    "同样，您可以将整个目录复制到另一个目录，使用cp -r后跟要复制的目录名称和要复制目录的目录名称（例如cp -r directory-name-1 directory-name-2）。\n",
    "\n",
    "与 类似rm -r，-rincp -r有必要Bash通过父目录中所有文件和子目录的列表来告诉它需要递归（或重复）命令。\n",
    "\n",
    "$ cd ~\n",
    "\n",
    "$ pwd\n",
    "\n",
    "/users/jpalomino\n",
    "\n",
    "$ ls \n",
    "\n",
    "documents    downloads    grades.txt\n",
    "\n",
    "$ mkdir pics\n",
    "\n",
    "$ ls \n",
    "\n",
    "documents    downloads    grades.txt    pics\n",
    "\n",
    "$ cp -r pics documents\n",
    "\n",
    "$ cd documents\n",
    "\n",
    "$ ls\n",
    "\n",
    "grades.txt    pics\n",
    "\n",
    "再次，目录的原始副本保留在原始目录中。\n",
    "\n",
    "$ cd ~\n",
    "\n",
    "$ pwd\n",
    "\n",
    "/users/jpalomino\n",
    "\n",
    "$ ls \n",
    "\n",
    "documents    downloads    grades.txt    pics"
   ]
  },
  {
   "cell_type": "markdown",
   "id": "411ef9ce-7d02-489d-b96f-028f46aac87f",
   "metadata": {},
   "source": [
    "#### 9.使用单个命令 ( touch)创建新文件\n"
   ]
  },
  {
   "cell_type": "markdown",
   "id": "327fd07a-24a9-480c-9c0a-fe6cb4dd2f1b",
   "metadata": {},
   "source": [
    "您可以使用单个命令touch（例如touch file-name.txt）创建一个新的空文件。此命令最初是为了管理文件的时间戳而创建的。但是，如果文件尚不存在，则该命令将生成该文件。\n",
    "\n",
    "这是一种以编程方式快速创建新的空文件的非常有用的方法，该文件可以在以后填充。\n",
    "\n",
    "$ cd ~\n",
    "\n",
    "$ cd downloads\n",
    "\n",
    "$ pwd\n",
    "\n",
    "/users/jpalomino/downloads\n",
    "\n",
    "$ touch veg-data.txt\n",
    "\n",
    "$ ls\n",
    "\n",
    "veg-data.txt"
   ]
  },
  {
   "cell_type": "code",
   "execution_count": null,
   "id": "398b3fa2-0e57-4513-9703-d7a7348a5ea7",
   "metadata": {},
   "outputs": [],
   "source": []
  }
 ],
 "metadata": {
  "kernelspec": {
   "display_name": "Python 3 (ipykernel)",
   "language": "python",
   "name": "python3"
  },
  "language_info": {
   "codemirror_mode": {
    "name": "ipython",
    "version": 3
   },
   "file_extension": ".py",
   "mimetype": "text/x-python",
   "name": "python",
   "nbconvert_exporter": "python",
   "pygments_lexer": "ipython3",
   "version": "3.9.7"
  }
 },
 "nbformat": 4,
 "nbformat_minor": 5
}
