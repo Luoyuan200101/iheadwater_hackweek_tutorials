{
 "cells": [
  {
   "cell_type": "markdown",
   "id": "3c3f26db-23c0-4e20-9e15-62bfc9e6f8fd",
   "metadata": {},
   "source": [
    "# 第6课：练习使用 Git 和 GitHub 管理文件"
   ]
  },
  {
   "cell_type": "markdown",
   "id": "31aa152b-93d0-496d-8b01-1857133d8a95",
   "metadata": {},
   "source": [
    "## Ⅰ. 用于版本控制的 Git 和 GitHub 工作流\n",
    "\n",
    "在前面的课程中，你学习了如何`fork`和`clone`现有的`GitHub`存储库来复制其他用户的存储库并将它们下载到你的计算机上。\n",
    "\n",
    "在本课中，你将这些技能扩展到：\n",
    "\n",
    "- 检查`status`存储库中更改的文件\n",
    "- `add`将文件更改为版本控制跟踪\n",
    "- `commit`更改的文件到您的本地存储库\n",
    "- `push`那些从存储库的本地副本到云的更改文件 (GitHub.com)\n",
    "\n",
    "在后面的课程中，你将扩展此版本控制工作流程，以通知其他人（你的合作者）你所做的更改以及你希望添加到main存储库的原始 (`main`) 副本中。"
   ]
  },
  {
   "cell_type": "markdown",
   "id": "0bbdf383-3ee8-4e0e-a088-13ac13a27126",
   "metadata": {},
   "source": [
    "## Challenge 1: Check Git Configuration Settings\n",
    "To begin, check your github configuration. Type the following in bash:\n",
    "\n",
    "$ git config user.name\n",
    "\n",
    "$ git config user.email\n",
    "\n",
    "The output of the above commands should return your username and email for git. If it does not or it returns nothing, you will need to review the instructions for configuring git locally on your computer.\n",
    "\n",
    "## Challenge 2: Make Changes to Files\n",
    "**STEP 1: Make Changes to a File**\n",
    "  - Use **Shell** to navigate to your forked repository (the `practice-git-skillz` directory).\n",
    "If you don’t have this repo locally - you can clone it using the following url:` [https://github.com/your-user-name-here/practice-git-skillz](https://github.com/your-user-name-here/practice-git-skillz)`\n",
    "\n",
    "  - Launch Jupyter Notebook inside that directory. (If you are working on a JupyterHub you can skip this step!)\n",
    "  - Open the `Jupyter Notebook` file in that directory(`homework-example.ipynb`) and make some changes to the file as follows:\n",
    "\n",
    "       - Add a markdown cell to the notebook\n",
    "       - In the cell add a heading and then some text below.\n",
    "**STEP 2: Check the Status of Your Changed File**\n",
    "Return to your **shell** tool. Run the command:\n",
    "\n",
    "`git status`\n",
    "\n",
    "to check the status of current changes. It should show that there is a change to the file.\n",
    "\n",
    "***\n",
    "$ git status\n",
    "On branch main\n",
    "Your branch is up-to-date with 'origin/main'.\n",
    "Changes not staged for commit:\n",
    "  (use \"git add <file>...\" to update what will be committed)\n",
    "  (use \"git checkout -- <file>...\" to discard changes in working directory)\n",
    "\n",
    "\tmodified:   homework-example.ipynb\n",
    "    \n",
    "no changes added to commit (use \"git add\" and/or \"git commit -a\")\n",
    "***\n",
    "\n",
    "The output from `git status` indicates that you have modified the file `homework-example.ipynb`. To add these changes to your git history you need to:\n",
    "\n",
    "1. `add` the changes, and then\n",
    "2. `commit` the changes using a useful message that describes what you changed.\n",
    "**STEP 3: Add and Commit Changed Files**\n",
    "You will use the `add` and `commit` functions to add and commit your changed files.\n",
    "\n",
    "- `git add`: takes a modified file in your working directory and places the modified version in a staging area.\n",
    "\n",
    "- `git commit`: takes everything from the staging area and makes a permanent snapshot of the current state of your repository that is associated with a unique identifier.\n",
    "\n",
    "These two commands make up the bulk of many workflows that use git for version control.\n",
    "\n",
    "**STEP 4: Push Your Changes to GitHub.com**\n",
    "Once you have added and commited your changes, you are ready to push them to GitHub.com. Use:\n",
    "\n",
    "`$ git push`\n",
    "\n",
    "to push the changes to your fork."
   ]
  }
 ],
 "metadata": {
  "kernelspec": {
   "display_name": "hydrus",
   "language": "python",
   "name": "hydrus"
  },
  "language_info": {
   "codemirror_mode": {
    "name": "ipython",
    "version": 3
   },
   "file_extension": ".py",
   "mimetype": "text/x-python",
   "name": "python",
   "nbconvert_exporter": "python",
   "pygments_lexer": "ipython3",
   "version": "3.9.7"
  }
 },
 "nbformat": 4,
 "nbformat_minor": 5
}
