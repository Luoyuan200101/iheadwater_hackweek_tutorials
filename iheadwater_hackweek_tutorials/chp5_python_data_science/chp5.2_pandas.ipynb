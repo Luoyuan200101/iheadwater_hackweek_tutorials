{
 "cells": [
  {
   "cell_type": "markdown",
   "id": "b7abedc2-fd31-4f77-9171-fc535bffcdfa",
   "metadata": {},
   "source": [
    "# Pandas 简介\n",
    "\n",
    "Pandas，是 python+data+analysis 的组合缩写，是 python 中基于 numpy 和 matplotlib 的第三方数据分析库，与后两者共同构成了 python 数据分析的基础工具包，享有数分三剑客之名。\n",
    "\n",
    "我们知道，构建和处理二维、多维数组是一项繁琐的任务。Pandas 为解决这一问题，在ndarray 数组（numpy 中的数组）的基础上构建出了两种不同的数据结构，分别是 Series（一维数据结构）, Pandas dataframe （二维数据结构）：\n",
    "\n",
    "Series 是带标签的一维数组，这里的标签可以理解为索引，但这个索引并不局限于整数，它也可以是字符类型，比如 a、b、c 等；而 Pandas dataframe 是一种表格型数据结构，它既有行标签，又有列标签。在本节，我们主要介绍 pandas dataframe。"
   ]
  },
  {
   "cell_type": "markdown",
   "id": "40441117-08c4-47bc-9e84-5e53497a0b72",
   "metadata": {},
   "source": [
    "#  认识 pandas dataframe "
   ]
  },
  {
   "cell_type": "markdown",
   "id": "41f59480-bacd-416a-a3f3-9187e7256a36",
   "metadata": {},
   "source": [
    "## 1 什么是pandas dataframe \n",
    "\n",
    "pandas dataframe 是一个表格型的数据结构，既有行标签（index），又有列标签（columns），它也被称异构数据表，所谓异构，指的是表格中每列的数据类型可以不同，比如可以是字符串、整型或者浮点型等。pandas dataframe 中每个值都称为一个单元格，该单元格在表格结构中具有特定的行索引和列索引。"
   ]
  },
  {
   "cell_type": "markdown",
   "id": "367fcd94-3853-43fc-938f-e61fd099747f",
   "metadata": {},
   "source": [
    "## 2 pandas dataframe 的特征\n",
    "\n",
    "pandas dataframe 的每一行数据都可以看成一个 Series 结构，只不过，pandas dataframe 为这些行中每个数据值增加了一个列标签。并且 pandas dataframe 具有其独特的特征，使其与其他数据结构区分开来： \n",
    "\n",
    "（1）pandas dataframe 中的每个列都可以有一个标签名称（即标题名称），并且可以包含与其相邻列不同的数据类型。                         \n",
    "（2）默认情况下，每行都有一个索引，其值范围从0开始。但是，pandas dataframe 中的行索引也可以设置为标签（例如位置名称，日期）。pandas dataframe 中的所有单元格都具有行索引和列索引（即二维表结构），即使pandas dataframe 中只有一个单元格也是如此。                                   \n",
    "（3）除了通过基于位置索引选择单元格（例如，第 1 行第 1 列的单元格）之外，我们还可以根据特定值（例如，查询特定文本字符串或数值）在 pandas dataframe 内查询数据。     \n",
    "（4）由于其固有的表格结构，pandas 数据帧还允许单元格具有空值（即没有数据值，例如空格，-999 等）。                                          \n"
   ]
  },
  {
   "cell_type": "markdown",
   "id": "52ce1af5-bf50-4fa1-bf50-d2f413cbfa75",
   "metadata": {},
   "source": [
    "## 3 pandas dataframe 可以用来做什么\n",
    "\n",
    "**（1）读取数据**                                             \n",
    "read_csv() 表示从 CSV 文件中读取数据，并创建 DataFrame 对象。                          \n",
    "关于文件读取时，文件路径怎么书写，我们在前边的章节以及学习过了，就不再赘述。                                                                           \n",
    "注：我们在本小节用来示例的csv文件为同一个。"
   ]
  },
  {
   "cell_type": "code",
   "execution_count": 57,
   "id": "60cba0dc-50d7-4f07-a95b-15ca43c74660",
   "metadata": {},
   "outputs": [
    {
     "name": "stdout",
     "output_type": "stream",
     "text": [
      "   months  precip seasons\n",
      "0     Jan    0.70  Winter\n",
      "1     Feb    0.75  Winter\n",
      "2     Mar    1.85  Spring\n",
      "3     Apr    2.93  Spring\n",
      "4     May    3.05  Spring\n",
      "5    June    2.02  Summer\n",
      "6    July    1.93  Summer\n",
      "7     Aug    1.62  Summer\n",
      "8    Sept    1.84    Fall\n",
      "9     Oct    1.31    Fall\n",
      "10    Nov    1.39    Fall\n",
      "11    Dec    0.84  Winter\n"
     ]
    }
   ],
   "source": [
    "import pandas as pd\n",
    "#需要注意文件的路径\n",
    "df=pd.read_csv('https://ndownloader.figshare.com/files/12710618')\n",
    "print (df)"
   ]
  },
  {
   "cell_type": "markdown",
   "id": "fd42e92a-1e18-4e3e-b5e0-1951cfc5f34c",
   "metadata": {},
   "source": [
    "**（2）查看数据内容**                                    \n",
    "当数据量很大时我们可以选择查看 pandas dataframe 的某几行，此功能对于无法在 Jupyter  Notebook 中轻松显示的大型数据集非常有用。\n",
    "例如读取上述文件前面五行："
   ]
  },
  {
   "cell_type": "code",
   "execution_count": 69,
   "id": "fe812810-82e0-47cb-ac34-45977113d1a7",
   "metadata": {},
   "outputs": [
    {
     "name": "stdout",
     "output_type": "stream",
     "text": [
      "  months  precip seasons\n",
      "0    Jan    0.70  Winter\n",
      "1    Feb    0.75  Winter\n",
      "2    Mar    1.85  Spring\n",
      "3    Apr    2.93  Spring\n",
      "4    May    3.05  Spring\n"
     ]
    }
   ],
   "source": [
    "import pandas as pd\n",
    "df=pd.read_csv('https://ndownloader.figshare.com/files/12710618')\n",
    "print(df.head())"
   ]
  },
  {
   "cell_type": "markdown",
   "id": "50825589-722a-4b29-a4f5-fa455bddeb86",
   "metadata": {},
   "source": [
    "**（3）描述数据类型**                                        \n",
    "pandas dataframe中，利用*info()* 方法可以返回表格的一些基本信息。例如：输出行数，列数，列名以及数据类型等。\n",
    "下面我们来看一个实例："
   ]
  },
  {
   "cell_type": "code",
   "execution_count": 70,
   "id": "ae364c67-bbe3-4bd1-a4f3-1fa0633c7310",
   "metadata": {},
   "outputs": [
    {
     "name": "stdout",
     "output_type": "stream",
     "text": [
      "<class 'pandas.core.frame.DataFrame'>\n",
      "RangeIndex: 12 entries, 0 to 11\n",
      "Data columns (total 3 columns):\n",
      " #   Column   Non-Null Count  Dtype  \n",
      "---  ------   --------------  -----  \n",
      " 0   months   12 non-null     object \n",
      " 1   precip   12 non-null     float64\n",
      " 2   seasons  12 non-null     object \n",
      "dtypes: float64(1), object(2)\n",
      "memory usage: 416.0+ bytes\n",
      "None\n"
     ]
    }
   ],
   "source": [
    "import pandas as pd\n",
    "df=pd.read_csv('https://ndownloader.figshare.com/files/12710618')\n",
    "print(df.info())"
   ]
  },
  {
   "cell_type": "markdown",
   "id": "fe8566cb-4a77-4afd-84d1-6a433b6e6c9f",
   "metadata": {},
   "source": [
    "**（4）对数值进行统计计算**                                          \n",
    "从描述统计学角度出发，我们可以对 DataFrame 结构执行聚合计算等其他操作。\n",
    "*sum、mean、count、max、min* 这五个函数属于最常用的几个函数。                                                                       \n",
    "示例：对precip列求平均值"
   ]
  },
  {
   "cell_type": "code",
   "execution_count": 78,
   "id": "dbaa0192-0188-4752-8da1-5e149010f460",
   "metadata": {},
   "outputs": [
    {
     "name": "stdout",
     "output_type": "stream",
     "text": [
      "1.6858333333333333\n"
     ]
    }
   ],
   "source": [
    "import pandas as pd\n",
    "df=pd.read_csv('https://ndownloader.figshare.com/files/12710618')\n",
    "print(df['precip'].mean())"
   ]
  },
  {
   "cell_type": "markdown",
   "id": "58519e43-168e-469b-96fc-9aa79f60a843",
   "metadata": {},
   "source": [
    "**（5）对数值进行排序**                                                  \n",
    "我们在 numpy 数组小节中介绍过如何识别最大值，最小值，但是要是用在本节的示例文件，我们不能使降水与月份产生联系，但是使用 pandas dataframe 我们可以使数据按降序排序，以查找最大值及其对应的月份。\n",
    "下面是示例:\n",
    "可以看出降水量最大的月份是五月。"
   ]
  },
  {
   "cell_type": "code",
   "execution_count": 96,
   "id": "283ff1bf-f419-4554-aec1-f800e9c5d33f",
   "metadata": {},
   "outputs": [
    {
     "name": "stdout",
     "output_type": "stream",
     "text": [
      "  months  precip seasons\n",
      "4    May    3.05  Spring\n",
      "3    Apr    2.93  Spring\n",
      "5   June    2.02  Summer\n",
      "6   July    1.93  Summer\n",
      "2    Mar    1.85  Spring\n"
     ]
    }
   ],
   "source": [
    "import pandas as pd\n",
    "df=pd.read_csv('https://ndownloader.figshare.com/files/12710618')\n",
    "df = df.sort_values(by=\"precip\",ascending=False)  # by指定按哪列排序。ascending表示是否升序\n",
    "print(df.head())"
   ]
  },
  {
   "cell_type": "markdown",
   "id": "2ebbdbf8-c9b8-40a5-bbd0-229ebdcce181",
   "metadata": {},
   "source": [
    "**（6）快速绘图**                                                             \n",
    "这里是一个简单的示例："
   ]
  },
  {
   "cell_type": "code",
   "execution_count": 116,
   "id": "6b6e1f17-423b-4151-9de9-6a4471b91a6d",
   "metadata": {},
   "outputs": [
    {
     "data": {
      "text/plain": [
       "<AxesSubplot:xlabel='a', ylabel='b'>"
      ]
     },
     "execution_count": 116,
     "metadata": {},
     "output_type": "execute_result"
    },
    {
     "data": {
      "image/png": "[encoded data removed]",
      "text/plain": [
       "<Figure size 640x480 with 1 Axes>"
      ]
     },
     "metadata": {},
     "output_type": "display_data"
    }
   ],
   "source": [
    "import pandas as pd\n",
    "import numpy as np\n",
    "df = pd.DataFrame(np.random.rand(30, 4), columns=['a', 'b', 'c', 'd'])\n",
    "df.plot.scatter(x='a',y='b')"
   ]
  },
  {
   "cell_type": "markdown",
   "id": "72c64acb-4413-480f-acab-6624403ecae3",
   "metadata": {},
   "source": [
    "# pandas dataframe 数据索引\n",
    "\n",
    "## 1 pandas dataframe 数据索引的两种方式\n",
    "\n",
    "pandas dataframe 中有两种索引方式：**基于位置索引**和**基于标签索引**。\n",
    "\n",
    "一个 DataFrame 对象表示一个电子表格，带有单元格值、列名和行索引标签。因此，该结构支持使用索引选择数据，例如选择在某在行和列交点的位置标识的单个单元格。我们还可以使用特定标签（如列名称）从 pandas 数据帧中选择数据，而无需知道该数据在 pandas 数据帧中的位置。\n",
    "\n",
    "**（1）基于位置索引**                                                                                                                              \n",
    "我们可以使用基于位置的索引来查询 pandas dataframe 中的数据，并提供行和列选择作为范围(即沿行和列的开始和停止位置)。  \n",
    "**（2）基于标签的索引**                                 \n",
    "pandas dataframe 也可以使用基于标签的索引进行查询，此功能非常有用，因为我们可以使用要用于组织和查询数据的特定列（即标签）为 pandas dataframe 创建索引。\n",
    "**（3）筛选数据**                                                                                                                                                                         \n",
    "除了使用索引之外，我们还可以通过查询满足特定条件的值来选择或筛选 pandas dataframe中的数据。例如，我们可以使用以下命令根据列中的特定值选择 pandas 数据帧中的数据：\n",
    "```\n",
    "dataframe[dataframe[\"column\"] == value]\n",
    "```\n",
    "这将返回指定列中包含该值的所有行。"
   ]
  },
  {
   "cell_type": "markdown",
   "id": "04c92b90-350c-4e1f-b257-39ac92ed4a8e",
   "metadata": {},
   "source": [
    "## 2 pandas dataframe 数据索引练习\n",
    "\n",
    "在这里我们使用的l练习数据与第二部分相同                                                                                                  \n",
    "**（1）loc：通过行、列的名称或标签来索引**\\\n",
    "使用 loc 的语法是：\n",
    "```\n",
    "data.loc[<row selection>, <column selection>]\n",
    "```\n",
    "当通过标签索引的切片方式来筛选数据时，它的取值前闭后闭，也就是只包括边界值标签（开始和结束）。  \n",
    "**示例1：索引第二行的值，行标签是“1”**"
   ]
  },
  {
   "cell_type": "code",
   "execution_count": 17,
   "id": "0ea19794-4918-47e9-8677-cfddf5c8396e",
   "metadata": {},
   "outputs": [
    {
     "name": "stdout",
     "output_type": "stream",
     "text": [
      "months        Feb\n",
      "precip       0.75\n",
      "seasons    Winter\n",
      "Name: 1, dtype: object\n"
     ]
    }
   ],
   "source": [
    "import pandas as pd\n",
    "import numpy as np\n",
    "data = pd.read_csv('https://ndownloader.figshare.com/files/12710618')\n",
    "data1 = data.loc[1]\n",
    "print(data1)"
   ]
  },
  {
   "cell_type": "markdown",
   "id": "95c1c963-f08b-4544-b8e5-7e0fbe27e851",
   "metadata": {},
   "source": [
    "**示例2：读取第二列的值**"
   ]
  },
  {
   "cell_type": "code",
   "execution_count": 18,
   "id": "a7c1fcf2-8c84-4493-a5bd-74a97e7b0498",
   "metadata": {},
   "outputs": [
    {
     "name": "stdout",
     "output_type": "stream",
     "text": [
      "0      Jan\n",
      "1      Feb\n",
      "2      Mar\n",
      "3      Apr\n",
      "4      May\n",
      "5     June\n",
      "6     July\n",
      "7      Aug\n",
      "8     Sept\n",
      "9      Oct\n",
      "10     Nov\n",
      "11     Dec\n",
      "Name: months, dtype: object\n"
     ]
    }
   ],
   "source": [
    "import pandas as pd\n",
    "import numpy as np\n",
    "data = pd.read_csv('https://ndownloader.figshare.com/files/12710618')\n",
    "data1 = data.loc[ : ,\"months\"]\n",
    "print(data1)"
   ]
  },
  {
   "cell_type": "markdown",
   "id": "e7440542-b692-41a3-9ba8-d2a8cd8bf2ea",
   "metadata": {},
   "source": [
    "**示例3: 读取第1行到第2行，第2列到第3列的值**"
   ]
  },
  {
   "cell_type": "code",
   "execution_count": 20,
   "id": "584e6d70-a289-40f3-b1ec-0c93082b0b8f",
   "metadata": {},
   "outputs": [
    {
     "name": "stdout",
     "output_type": "stream",
     "text": [
      "  months  precip\n",
      "1    Feb    0.75\n",
      "2    Mar    1.85\n",
      "3    Apr    2.93\n"
     ]
    }
   ],
   "source": [
    "import pandas as pd\n",
    "import numpy as np\n",
    "data = pd.read_csv('https://ndownloader.figshare.com/files/12710618')\n",
    "data1 = data.loc[1:3,\"months\":\"precip\"]\n",
    "print(data1)"
   ]
  },
  {
   "cell_type": "markdown",
   "id": "e2ef4b06-9fc8-4efd-a0d5-2e9bd0b31d17",
   "metadata": {},
   "source": [
    "**（2）iloc：通过行、列的索引位置来寻找数据**                                 \n",
    "Pandas中的 iloc 是用基于整数的下标来进行数据定位/选择\n",
    "iloc 的语法是\n",
    "```\n",
    "data.iloc[<row selection>, <column selection>]\n",
    "```\n",
    " iloc 在 pandas 中是用来通过数字来选择数据中具体的某些行和列。你可以设想每一行都有一个对应的下标（0,1,2，…)，通过 iloc 我们可以利用这些下标去选择相应的行数据。同理，对于行也一样，想象每一列也有对应的下标(0,1,2,…),通过这些下标也可以选择相应的列数据。我们可以选择具体的某行某列，也可以行列混合选择。\n",
    " 通过整数索引切片选择数据时，前闭后开(不包含边界结束值)。同 python 和 numpy 一样，它们的索引都是从 0 开始。"
   ]
  },
  {
   "cell_type": "markdown",
   "id": "5f30a3cb-7eb1-4f96-b045-20bda0c5234c",
   "metadata": {},
   "source": [
    "**示例1：读取第2行,第2列的值**"
   ]
  },
  {
   "cell_type": "code",
   "execution_count": 22,
   "id": "b14dce52-3f68-4de2-b1d6-1e1fc2507f2b",
   "metadata": {},
   "outputs": [
    {
     "name": "stdout",
     "output_type": "stream",
     "text": [
      "0.75\n"
     ]
    }
   ],
   "source": [
    "import pandas as pd\n",
    "import numpy as np\n",
    "data = pd.read_csv('https://ndownloader.figshare.com/files/12710618')\n",
    "data1 = data.iloc[1,1]\n",
    "print(data1)"
   ]
  },
  {
   "cell_type": "markdown",
   "id": "c95fef96-e40d-465d-855b-0e9f219bb45e",
   "metadata": {},
   "source": [
    "**示例2：进行切片操作**\n",
    "按 index 和 columns 进行切片操作\n",
    "读取第2、3行，第2、3列"
   ]
  },
  {
   "cell_type": "code",
   "execution_count": 23,
   "id": "d1da3e78-e84c-4a30-af64-a3184aa3b0a6",
   "metadata": {},
   "outputs": [
    {
     "name": "stdout",
     "output_type": "stream",
     "text": [
      "   precip seasons\n",
      "1    0.75  Winter\n",
      "2    1.85  Spring\n"
     ]
    }
   ],
   "source": [
    "import pandas as pd\n",
    "import numpy as np\n",
    "data = pd.read_csv('https://ndownloader.figshare.com/files/12710618')\n",
    "data1 = data.iloc[1:3,1:3]\n",
    "print(data1)"
   ]
  },
  {
   "cell_type": "markdown",
   "id": "e5ab9622-3dae-4e97-9515-2a0ce421caae",
   "metadata": {},
   "source": [
    "**（3）使用特定值筛选数据**                              \n",
    "除了基于位置和基于标签的索引之外，我们还可以使用以下命令根据列中的特定值选择或筛选数据：\n",
    "```\n",
    "dataframe[dataframe[\"column\"] == value]\n",
    "```\n",
    "这将返回指定列中包含该值的所有行。\n",
    "如果使用文本字符串列选择数据，则需要加引号,例如”text\""
   ]
  },
  {
   "cell_type": "markdown",
   "id": "2f9aecb3-5eac-4bf6-8233-d0b291db77d2",
   "metadata": {},
   "source": [
    "**示例1：筛选出 precip 大于 2mm 的数据**"
   ]
  },
  {
   "cell_type": "code",
   "execution_count": 30,
   "id": "4ab3efa4-53cf-41ad-adfc-94e64a7722f1",
   "metadata": {},
   "outputs": [
    {
     "name": "stdout",
     "output_type": "stream",
     "text": [
      "  months  precip seasons\n",
      "3    Apr    2.93  Spring\n",
      "4    May    3.05  Spring\n",
      "5   June    2.02  Summer\n"
     ]
    }
   ],
   "source": [
    "import pandas as pd\n",
    "import numpy as np\n",
    "df = pd.read_csv('https://ndownloader.figshare.com/files/12710618')\n",
    "df = df[df[\"precip\"]>2]\n",
    "print(df)"
   ]
  },
  {
   "cell_type": "markdown",
   "id": "801bb1fc-9198-4db9-a8a0-df397f5be9a4",
   "metadata": {},
   "source": [
    "**示例2：筛选出夏季的数据**"
   ]
  },
  {
   "cell_type": "code",
   "execution_count": 31,
   "id": "7e14d5e1-ca95-41c1-bf26-349c2199139e",
   "metadata": {},
   "outputs": [
    {
     "name": "stdout",
     "output_type": "stream",
     "text": [
      "  months  precip seasons\n",
      "5   June    2.02  Summer\n",
      "6   July    1.93  Summer\n",
      "7    Aug    1.62  Summer\n"
     ]
    }
   ],
   "source": [
    "import pandas as pd\n",
    "import numpy as np\n",
    "df = pd.read_csv('https://ndownloader.figshare.com/files/12710618')\n",
    "df = df[df[\"seasons\"] == \"Summer\"]\n",
    "print(df)"
   ]
  },
  {
   "cell_type": "markdown",
   "id": "9d12ec9d-d02e-4550-9a5f-b1e5ab7c9895",
   "metadata": {},
   "source": [
    "**示例3：使用筛选出来的值生成一个新的 dataframe**\n",
    "我们可以通过将输出设置为等于筛选器的输出，将输出保存到新的数据帧。\n",
    "示例：筛选一月的数值保存到新的数据帧"
   ]
  },
  {
   "cell_type": "code",
   "execution_count": 34,
   "id": "6fec0e71-1bea-487a-b4de-c6650b81f344",
   "metadata": {},
   "outputs": [
    {
     "name": "stdout",
     "output_type": "stream",
     "text": [
      "  months  precip seasons\n",
      "0    Jan     0.7  Winter\n"
     ]
    }
   ],
   "source": [
    "import pandas as pd\n",
    "import numpy as np\n",
    "df = pd.read_csv('https://ndownloader.figshare.com/files/12710618')\n",
    "df1 = df[df[\"months\"] == \"Jan\"]\n",
    "print(df1)"
   ]
  }
 ],
 "metadata": {
  "kernelspec": {
   "display_name": "Python (tutorial)",
   "language": "python",
   "name": "tutorial"
  },
  "language_info": {
   "codemirror_mode": {
    "name": "ipython",
    "version": 3
   },
   "file_extension": ".py",
   "mimetype": "text/x-python",
   "name": "python",
   "nbconvert_exporter": "python",
   "pygments_lexer": "ipython3",
   "version": "3.9.13"
  }
 },
 "nbformat": 4,
 "nbformat_minor": 5
}
