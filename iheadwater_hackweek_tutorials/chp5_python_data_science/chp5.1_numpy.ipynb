{
 "cells": [
  {
   "cell_type": "markdown",
   "id": "6e0a3d7c-d6cd-4d04-ad01-b6f0a0cf01f4",
   "metadata": {
    "tags": []
   },
   "source": [
    "# Numpy 简介\n",
    "\n",
    "numpy 是一个功能强大的 python 库，主要用于对多维数组执行计算。numpy 这个词来源于两个单词 *Numerical*和 *Python*。numpy提供了大量的库函数和操作，可以帮助程序员轻松地进行数值计算。这类数值计算广泛用于机器学习模型，图像处理和计算机图形学和数学任务。\n",
    "\n",
    "**在我们的计算机上安装 numpy 的最快也是最简单的方法是在 shell 上使用以下命令：**\n",
    "```\n",
    "pip install numpy\n",
    "```\n",
    "这将在我们的计算机上安装最新/最稳定的 numpy 版本。通过 PIP 安装是安装任 python 软件包的最简单方法。\n",
    "\n",
    "教程使用的python编程环境中已经提供这个包了，我们能直接使用numpy，现在让我们来谈谈 numpy 中最重要的概念，numpy 数组。在本章的学习中，我们将了解什么是 numpy 数组；python 列表 numpy 数组之间的主要区别以及 numpy 数组的维数。"
   ]
  },
  {
   "cell_type": "markdown",
   "id": "f7447037-252c-4df2-b3f8-b45c8195fcbc",
   "metadata": {},
   "source": [
    "## 1 什么是 numpy 数组\n",
    "\n",
    "numpy提供的最重要的数据结构是一个称为numpy数组的强大对象。numPy数组是通常的python数组的扩展。numpy数组配备了大量的函数和运算符，可以帮助我们快速编写各种类型计算的高性能代码。  \n",
    "\n",
    "与 python 列表一样，numpy 数组也由有序值（称为元素）组成，并且还使用索引来组织和操作。numpy数组的一个关键特征是数组中的所有元素都必须是相同类型的数据（即整数、浮点数、文本、字符串等）。  \n",
    "\n",
    "## 2 Python Array 和 Numpy Array 的区别\n",
    "\n",
    "虽然 python 列表和 numpy 数组有相似之处，因为它们都是使用索引来帮助我们来存储和访问数据的值的集合，但这两种数据结构之间存在一些关键区别：\n",
    "\n",
    "（1）与 python 列表不同，numpy 数组中的所有元素必须具有相同的数据类型;\n",
    "\n",
    "（2）与 python 列表不同，numpy 数组不是通过添加/删除/替换数组中的元素来编辑的。相反，每次以某种方式操作 numpy 数组时，它实际上每次都会被删除并重新创建。\n",
    "\n",
    "（3）numpy 数组可以沿着彼此相对的多个维度（例如行，列）存储数据。这使得 numpy 数组成为大型数据集的非常有效的数据结构。"
   ]
  },
  {
   "cell_type": "markdown",
   "id": "7bd3fe71-1560-46bf-848b-0b1d4e2edb96",
   "metadata": {},
   "source": [
    "## 3 创建 Numpy Array\n",
    "\n",
    "创建一个 ndarray 只需调用 NumPy 的 array 函数即可：\n",
    "\n",
    "```\n",
    "numpy.array(object, dtype = None, copy = True, order = None, subok = False, ndmin = 0)\n",
    "```\n",
    "object：数组或嵌套的数列\n",
    "dtype：数组元素的数据类型，可选\n",
    "copy：对象是否需要复制，可选\n",
    "order：创建数组的样式，C为行方向，F为列方向，A为任意方向（默认）\n",
    "subok：默认返回一个与基类类型一致的数组\n",
    "ndmin：指定生成数组的最小维度"
   ]
  },
  {
   "cell_type": "code",
   "execution_count": 27,
   "id": "6f866a47-c3be-40ce-92cd-775f955a2a5e",
   "metadata": {},
   "outputs": [
    {
     "name": "stdout",
     "output_type": "stream",
     "text": [
      "[1 2 3]\n"
     ]
    }
   ],
   "source": [
    "# 示例1：创建一维数组\n",
    "import numpy as np \n",
    "a = np.array([1,2,3])  \n",
    "print (a)"
   ]
  },
  {
   "cell_type": "code",
   "execution_count": 28,
   "id": "775e9e47-6d88-4d0b-a272-aa2833b34198",
   "metadata": {},
   "outputs": [
    {
     "name": "stdout",
     "output_type": "stream",
     "text": [
      "[[1 2]\n",
      " [3 4]]\n"
     ]
    }
   ],
   "source": [
    "# 示例2：创建多维度数组 \n",
    "import numpy as np \n",
    "a = np.array([[1,  2],  [3,  4]])  \n",
    "print (a)"
   ]
  },
  {
   "cell_type": "markdown",
   "id": "b949a07f-1ea4-4b7a-b019-da8b3d6cc9cb",
   "metadata": {},
   "source": [
    "# NumPy 数组基本概念\n",
    "\n",
    "## 1 numpy 数组读写文件\n",
    "\n",
    "numpy 文件读写主要有二进制的文件读写和文件列表形式的数据读写两种形式。          \n",
    "save 函数是以二进制的格式保存数据：np.save(\"../tmp/save_arr\",arr)       \n",
    "load 函数是从二进制的文件中读取数据：np.load(\"../tmp/save_arr.npy\")              \n",
    "savez 函数可以将多个数组保存到一个文件中：np.savez(\"../tmp/savez_arr\",arr1.arr2)"
   ]
  },
  {
   "cell_type": "markdown",
   "id": "9901c60a-c9c5-4cef-a74f-eef15434c387",
   "metadata": {},
   "source": [
    "## 2 numpy 数组索引\n",
    "一旦将数据存储在数组中，NumPy便会提供简单的方法将其取出：\n",
    "![](../img/numpy数组索引.jpg)\n",
    "上面展示了各式各样的索引，例如取出某个特定区间，从右往左索引、只取出奇数位等等。\n",
    "但它们都是所谓的view，也就是不存储原始数据。并且如果原始数组在被索引后进行更改，则不会反映原始数组的改变。"
   ]
  },
  {
   "cell_type": "markdown",
   "id": "4257d170-99f9-4584-8634-5a93b57319fa",
   "metadata": {},
   "source": [
    "## 3 numpy 数组切片\n",
    "我们可以我们像对 python 列表进行切片一样，对 NumPy 数组进行任意的索引和切片：\n",
    "![](../img/numpy数组切片1.jpg)"
   ]
  },
  {
   "cell_type": "markdown",
   "id": "33a78d6a-8364-42ae-bfc2-f600010b3a02",
   "metadata": {},
   "source": [
    "## 4 向量运算                                                      \n",
    "算术运算是NumPy速度最引入注目的地方之一。NumPy的向量运算符已达到C++级别，避免了Python的慢循环。\n",
    "NumPy允许像普通数字一样操作整个数组（加减乘除、整除、幂）：\n",
    "![](../img/numpy数组向量运算.jpg)"
   ]
  },
  {
   "cell_type": "markdown",
   "id": "53f64e0c-736d-4444-bb5a-cef8f410666f",
   "metadata": {},
   "source": [
    "## 5 数组广播\n",
    "不同形状和维度的数组在某些情况下, numpy可以执行加减乘除的运算,这种机制就叫做广播机制。\n",
    "下面是图片和代码示例：\n",
    "![](../img/numpy广播.jpg)"
   ]
  },
  {
   "cell_type": "code",
   "execution_count": 36,
   "id": "8e9c11a2-c0d5-49ee-af28-59d524631308",
   "metadata": {},
   "outputs": [
    {
     "data": {
      "text/plain": [
       "array([1, 2, 3])"
      ]
     },
     "execution_count": 36,
     "metadata": {},
     "output_type": "execute_result"
    }
   ],
   "source": [
    "import numpy as np\n",
    "a = np.arange(3)\n",
    "b = 1\n",
    "a + b"
   ]
  },
  {
   "cell_type": "markdown",
   "id": "8e6ec946-2c38-4499-8f4a-5695ee45e358",
   "metadata": {},
   "source": [
    "## 6 常用统计函数\n",
    "\n",
    "当 axis=0 时，表示沿着纵轴（行）计算。当 axis=1 时，表示沿着横轴（列）计算。默认时计算一个总值。"
   ]
  },
  {
   "cell_type": "code",
   "execution_count": 11,
   "id": "28ff7bca-34c6-4d1b-8cb2-6d78a2d4ea09",
   "metadata": {},
   "outputs": [
    {
     "name": "stdout",
     "output_type": "stream",
     "text": [
      "[[0 1 2]\n",
      " [3 4 5]\n",
      " [6 7 8]]\n",
      "arr的和为: [ 3 12 21]\n",
      "arr的和为: [ 9 12 15]\n",
      "arr的平均值为： [1. 4. 7.]\n",
      "arr的标准差为： [0.81649658 0.81649658 0.81649658]\n",
      "arr的方差为： [0.66666667 0.66666667 0.66666667]\n",
      "arr的最小值为： [0 3 6]\n",
      "arr的最大值为： [2 5 8]\n",
      "arr的最大值下标为： [2 2 2]\n",
      "arr的最小值下标为： [0 0 0]\n",
      "arr的累计和为： [[ 0  1  3]\n",
      " [ 3  7 12]\n",
      " [ 6 13 21]]\n",
      "arr的累计积为： [[  0   0   0]\n",
      " [  3  12  60]\n",
      " [  6  42 336]]\n"
     ]
    }
   ],
   "source": [
    "import numpy as np\n",
    " \n",
    "arr = np.arange(9).reshape(3,3)\n",
    "print(arr)\n",
    " \n",
    "### sum,mean,std,var,min,max,argmax,argmin,cumsum,cumprod\n",
    "print(\"arr的和为:\",arr.sum(axis=1))   ##按照列的方向，横着求和\n",
    "print(\"arr的和为:\",arr.sum(axis=0))   ##按照行的方向，竖着求和\n",
    "print(\"arr的平均值为：\",np.mean(arr,axis=1))\n",
    "print(\"arr的标准差为：\",np.std(arr,axis=1))\n",
    "print(\"arr的方差为：\",np.var(arr,axis=1))\n",
    "print(\"arr的最小值为：\",np.min(arr,axis=1))\n",
    "print(\"arr的最大值为：\",np.max(arr,axis=1))\n",
    "print(\"arr的最大值下标为：\",np.argmax(arr,axis=1))\n",
    "print(\"arr的最小值下标为：\",np.argmin(arr,axis=1))\n",
    "print(\"arr的累计和为：\",np.cumsum(arr,axis=1))\n",
    "print(\"arr的累计积为：\",np.cumprod(arr,axis=1))"
   ]
  },
  {
   "cell_type": "markdown",
   "id": "e82a4220-7e94-4c75-9cb9-75fc7c16b6d7",
   "metadata": {},
   "source": [
    "## 7 其他\n",
    "还有很多内容，但是这里篇幅所限，我们就介绍一些最基本的概念，更多内容大家可以自己在实际使用过程中从[官方文档](https://numpy.org/doc/stable/)慢慢学习，我们后面有一个完整例子，会介绍其中用到的numpy运算操作。"
   ]
  }
 ],
 "metadata": {
  "kernelspec": {
   "display_name": "Python (tutorial)",
   "language": "python",
   "name": "tutorial"
  },
  "language_info": {
   "codemirror_mode": {
    "name": "ipython",
    "version": 3
   },
   "file_extension": ".py",
   "mimetype": "text/x-python",
   "name": "python",
   "nbconvert_exporter": "python",
   "pygments_lexer": "ipython3",
   "version": "3.9.13"
  }
 },
 "nbformat": 4,
 "nbformat_minor": 5
}
