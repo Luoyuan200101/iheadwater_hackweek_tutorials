{
 "cells": [
  {
   "cell_type": "code",
   "execution_count": null,
   "id": "78184bbf-42bd-4e2c-820a-2a6c5cc8ed2d",
   "metadata": {},
   "outputs": [],
   "source": []
  }
 ],
 "metadata": {
  "kernelspec": {
   "display_name": "Python (ml-base)",
   "language": "python",
   "name": "ml-base"
  },
  "language_info": {
   "codemirror_mode": {
    "name": "ipython",
    "version": 3
   },
   "file_extension": ".py",
   "mimetype": "text/x-python",
   "name": "python",
   "nbconvert_exporter": "python",
   "pygments_lexer": "ipython3",
   "version": "3.10.5"
  }
 },
 "nbformat": 4,
 "nbformat_minor": 5
}
