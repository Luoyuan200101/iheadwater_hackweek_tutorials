{
 "cells": [
  {
<<<<<<< HEAD:iheadwater_hackweek_tutorials/open_science_workflow/chp4_jupyter.ipynb
   "cell_type": "markdown",
   "id": "6e74922a-2dce-49a9-ab5d-55df9d9a487d",
   "metadata": {},
   "source": [
    "# 4 Jupyter XXX\n",
    "\n",
    "敬请期待……"
   ]
=======
   "cell_type": "code",
   "execution_count": null,
   "id": "650fd1d1-72c7-4ca6-9432-5fe4c8b12d5b",
   "metadata": {},
   "outputs": [],
   "source": []
>>>>>>> mzw:iheadwater_hackweek_tutorials/open_science_workflow/Section 3/Chapter 8/Untitled.ipynb
  }
 ],
 "metadata": {
  "kernelspec": {
<<<<<<< HEAD:iheadwater_hackweek_tutorials/open_science_workflow/chp4_jupyter.ipynb
   "display_name": "Python (ml-base)",
   "language": "python",
   "name": "ml-base"
=======
   "display_name": "hydrus",
   "language": "python",
   "name": "hydrus"
>>>>>>> mzw:iheadwater_hackweek_tutorials/open_science_workflow/Section 3/Chapter 8/Untitled.ipynb
  },
  "language_info": {
   "codemirror_mode": {
    "name": "ipython",
    "version": 3
   },
   "file_extension": ".py",
   "mimetype": "text/x-python",
   "name": "python",
   "nbconvert_exporter": "python",
   "pygments_lexer": "ipython3",
   "version": "3.10.5"
  }
 },
 "nbformat": 4,
 "nbformat_minor": 5
}
