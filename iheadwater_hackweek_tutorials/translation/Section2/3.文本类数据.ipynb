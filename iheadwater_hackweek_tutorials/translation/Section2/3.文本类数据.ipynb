{
 "cells": [
  {
   "cell_type": "markdown",
   "id": "b924c0db-5f43-47a8-b22a-6b10bba8d15a",
   "metadata": {},
   "source": [
    "# 文本类数据\n",
    "\n",
    "## 1. 什么是文本类数据？\n",
    "\n",
    "文本类（表格式）数据是以行/列格式存储的数据。列（有时是行）通常由标题来标识，如果命名正确，就可以解释该行或列中的内容。我们可能已经熟悉电子表格工具，如`Excel`和谷歌表格，它们可以用来打开表格式数据。\n",
    "\n",
    "## 2. 常见的文本类数据文件类型：.csv和.txt\n",
    "\n",
    "表格式数据可以以许多不同的文件格式下载。电子表格格式包括`.xls`和`xlsx`，可以直接在Microsoft Excel中打开。当我们下载地球和环境数据时，你会经常看到以文件格式存储的表格数据，包括：\n",
    "\n",
    "- `.csv` : 逗号分隔值————这个文件的每一列都由逗号分隔（划线）。\n",
    "- `.txt `: 一个基本的文本文件。在txt文件中，分界符（分隔每一列的东西）通常可以变化。下面将详细讨论定界符。\n",
    "\n",
    "## 3. 以文本文件格式存储的地球和环境数据\n",
    "\n",
    "有许多不同类型的数据是以文本和表格文件格式存储的。下面我们将看到以这种格式提供的几个不同的数据例子，还将探讨一些需要导入并开始处理数据的清理步骤"
   ]
  },
  {
   "cell_type": "code",
   "execution_count": 1,
   "id": "f72129f6-4ca2-4383-8bc8-788a50f582ff",
   "metadata": {},
   "outputs": [],
   "source": [
    "import os\n",
    "\n",
    "import matplotlib.pyplot as plt\n",
    "import pandas as pd"
   ]
  },
  {
   "cell_type": "code",
   "execution_count": 2,
   "id": "7c0d0d8c-a67d-429d-a549-88380e5af264",
   "metadata": {},
   "outputs": [
    {
     "data": {
      "text/html": [
       "<div>\n",
       "<style scoped>\n",
       "    .dataframe tbody tr th:only-of-type {\n",
       "        vertical-align: middle;\n",
       "    }\n",
       "\n",
       "    .dataframe tbody tr th {\n",
       "        vertical-align: top;\n",
       "    }\n",
       "\n",
       "    .dataframe thead th {\n",
       "        text-align: right;\n",
       "    }\n",
       "</style>\n",
       "<table border=\"1\" class=\"dataframe\">\n",
       "  <thead>\n",
       "    <tr style=\"text-align: right;\">\n",
       "      <th></th>\n",
       "      <th>months</th>\n",
       "      <th>precip</th>\n",
       "      <th>seasons</th>\n",
       "    </tr>\n",
       "  </thead>\n",
       "  <tbody>\n",
       "    <tr>\n",
       "      <th>0</th>\n",
       "      <td>Jan</td>\n",
       "      <td>0.70</td>\n",
       "      <td>Winter</td>\n",
       "    </tr>\n",
       "    <tr>\n",
       "      <th>1</th>\n",
       "      <td>Feb</td>\n",
       "      <td>0.75</td>\n",
       "      <td>Winter</td>\n",
       "    </tr>\n",
       "    <tr>\n",
       "      <th>2</th>\n",
       "      <td>Mar</td>\n",
       "      <td>1.85</td>\n",
       "      <td>Spring</td>\n",
       "    </tr>\n",
       "    <tr>\n",
       "      <th>3</th>\n",
       "      <td>Apr</td>\n",
       "      <td>2.93</td>\n",
       "      <td>Spring</td>\n",
       "    </tr>\n",
       "    <tr>\n",
       "      <th>4</th>\n",
       "      <td>May</td>\n",
       "      <td>3.05</td>\n",
       "      <td>Spring</td>\n",
       "    </tr>\n",
       "    <tr>\n",
       "      <th>5</th>\n",
       "      <td>June</td>\n",
       "      <td>2.02</td>\n",
       "      <td>Summer</td>\n",
       "    </tr>\n",
       "    <tr>\n",
       "      <th>6</th>\n",
       "      <td>July</td>\n",
       "      <td>1.93</td>\n",
       "      <td>Summer</td>\n",
       "    </tr>\n",
       "    <tr>\n",
       "      <th>7</th>\n",
       "      <td>Aug</td>\n",
       "      <td>1.62</td>\n",
       "      <td>Summer</td>\n",
       "    </tr>\n",
       "    <tr>\n",
       "      <th>8</th>\n",
       "      <td>Sept</td>\n",
       "      <td>1.84</td>\n",
       "      <td>Fall</td>\n",
       "    </tr>\n",
       "    <tr>\n",
       "      <th>9</th>\n",
       "      <td>Oct</td>\n",
       "      <td>1.31</td>\n",
       "      <td>Fall</td>\n",
       "    </tr>\n",
       "    <tr>\n",
       "      <th>10</th>\n",
       "      <td>Nov</td>\n",
       "      <td>1.39</td>\n",
       "      <td>Fall</td>\n",
       "    </tr>\n",
       "    <tr>\n",
       "      <th>11</th>\n",
       "      <td>Dec</td>\n",
       "      <td>0.84</td>\n",
       "      <td>Winter</td>\n",
       "    </tr>\n",
       "  </tbody>\n",
       "</table>\n",
       "</div>"
      ],
      "text/plain": [
       "   months  precip seasons\n",
       "0     Jan    0.70  Winter\n",
       "1     Feb    0.75  Winter\n",
       "2     Mar    1.85  Spring\n",
       "3     Apr    2.93  Spring\n",
       "4     May    3.05  Spring\n",
       "5    June    2.02  Summer\n",
       "6    July    1.93  Summer\n",
       "7     Aug    1.62  Summer\n",
       "8    Sept    1.84    Fall\n",
       "9     Oct    1.31    Fall\n",
       "10    Nov    1.39    Fall\n",
       "11    Dec    0.84  Winter"
      ]
     },
     "execution_count": 2,
     "metadata": {},
     "output_type": "execute_result"
    }
   ],
   "source": [
    "#这个需要在科学上网的情况下才能运行\n",
    "# Download and open the .csv file using Pandas\n",
    "avg_monthly_precip = pd.read_csv(\n",
    "    \"https://ndownloader.figshare.com/files/12710618\")\n",
    "\n",
    "# View the data that you just downloaded and opened\n",
    "avg_monthly_precip"
   ]
  },
  {
   "cell_type": "markdown",
   "id": "16ab7b21-744b-45b2-a9ae-0d93011b70b5",
   "metadata": {},
   "source": [
    "运行我们将看见看一下下面的数据：\n",
    "\n",
    "- 3列：月、降水和季节\n",
    "- 12行：注意第一行的数字是0，这是因为Python的索引总是从0开始，而不是从1开始。\n",
    "\n",
    "在Pandas中，这种表格格式被称为数据框架。我们可以使用`.info()`查看关于数据框架的一些统计信息，包括数据中的列数和行数"
   ]
  },
  {
   "cell_type": "code",
   "execution_count": 3,
   "id": "24692c2b-4cba-4e40-86b9-ee2082e6aa2c",
   "metadata": {},
   "outputs": [
    {
     "name": "stdout",
     "output_type": "stream",
     "text": [
      "<class 'pandas.core.frame.DataFrame'>\n",
      "RangeIndex: 12 entries, 0 to 11\n",
      "Data columns (total 3 columns):\n",
      " #   Column   Non-Null Count  Dtype  \n",
      "---  ------   --------------  -----  \n",
      " 0   months   12 non-null     object \n",
      " 1   precip   12 non-null     float64\n",
      " 2   seasons  12 non-null     object \n",
      "dtypes: float64(1), object(2)\n",
      "memory usage: 416.0+ bytes\n"
     ]
    }
   ],
   "source": [
    "avg_monthly_precip.info()"
   ]
  },
  {
   "cell_type": "markdown",
   "id": "2a545327-45d2-4b20-8e93-383fe717ba1c",
   "metadata": {},
   "source": [
    "最后，我们可以使用`.plot()`轻松绘制数据"
   ]
  },
  {
   "cell_type": "code",
   "execution_count": 4,
   "id": "4420226a-8747-4b94-9c19-3dfcf1aad343",
   "metadata": {},
   "outputs": [
    {
     "data": {
      "image/png": "[encoded data removed]",
      "text/plain": [
       "<Figure size 432x288 with 1 Axes>"
      ]
     },
     "metadata": {
      "needs_background": "light"
     },
     "output_type": "display_data"
    }
   ],
   "source": [
    "#Plot the data\n",
    "f, ax = plt.subplots()\n",
    "avg_monthly_precip.plot(x=\"months\",\n",
    "                        y=\"precip\",\n",
    "                        title=\"Precipitation (mm) for One Year\",\n",
    "                        ax=ax)\n",
    "ax.set(xlabel='Month',\n",
    "       ylabel='Precipitation (mm)')\n",
    "plt.show()"
   ]
  }
 ],
 "metadata": {
  "kernelspec": {
   "display_name": "Python 3 (ipykernel)",
   "language": "python",
   "name": "python3"
  },
  "language_info": {
   "codemirror_mode": {
    "name": "ipython",
    "version": 3
   },
   "file_extension": ".py",
   "mimetype": "text/x-python",
   "name": "python",
   "nbconvert_exporter": "python",
   "pygments_lexer": "ipython3",
   "version": "3.9.7"
  }
 },
 "nbformat": 4,
 "nbformat_minor": 5
}
