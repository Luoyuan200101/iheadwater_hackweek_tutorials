{
 "cells": [
  {
   "cell_type": "markdown",
   "id": "4956c607-3d22-4365-9b99-dec9b40992d1",
   "metadata": {},
   "source": [
    "# Jupyter的使用简介\n",
    "\n",
    "敬请期待……"
   ]
  }
 ],
 "metadata": {
  "kernelspec": {
   "display_name": "Python (ml-base)",
   "language": "python",
   "name": "ml-base"
  },
  "language_info": {
   "codemirror_mode": {
    "name": "ipython",
    "version": 3
   },
   "file_extension": ".py",
   "mimetype": "text/x-python",
   "name": "python",
   "nbconvert_exporter": "python",
   "pygments_lexer": "ipython3",
   "version": "3.10.5"
  }
 },
 "nbformat": 4,
 "nbformat_minor": 5
}
