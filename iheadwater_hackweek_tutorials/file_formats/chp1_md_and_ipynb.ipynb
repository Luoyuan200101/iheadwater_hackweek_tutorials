{
 "cells": [
  {
   "cell_type": "markdown",
   "id": "46d7f6a6-43f1-45e1-bfdf-e7c4a0f31311",
   "metadata": {},
   "source": [
    "print(\"hello world!\")"
   ]
  },
  {
   "cell_type": "markdown",
   "id": "2c0281e3-0878-4a2c-aa4d-60f9f040f231",
   "metadata": {},
   "source": [
    "# test\n",
    "\n",
    "$$e=\\frac 1 2 mv^2$$"
   ]
  }
 ],
 "metadata": {
  "kernelspec": {
   "display_name": "Python 3 (ipykernel)",
   "language": "python",
   "name": "python3"
  },
  "language_info": {
   "codemirror_mode": {
    "name": "ipython",
    "version": 3
   },
   "file_extension": ".py",
   "mimetype": "text/x-python",
   "name": "python",
   "nbconvert_exporter": "python",
   "pygments_lexer": "ipython3",
   "version": "3.9.13"
  }
 },
 "nbformat": 4,
 "nbformat_minor": 5
}
